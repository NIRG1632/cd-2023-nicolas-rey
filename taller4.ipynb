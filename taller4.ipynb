{
  "nbformat": 4,
  "nbformat_minor": 0,
  "metadata": {
    "colab": {
      "provenance": []
    },
    "kernelspec": {
      "name": "python3",
      "display_name": "Python 3"
    },
    "language_info": {
      "name": "python"
    }
  },
  "cells": [
    {
      "cell_type": "code",
      "execution_count": 2,
      "metadata": {
        "id": "84fjPCWcjU9J"
      },
      "outputs": [],
      "source": [
        "import math\n",
        "\n",
        "def distancia(x, y):\n",
        "  return math.sqrt(x**2 + y**2)"
      ]
    },
    {
      "cell_type": "code",
      "source": [
        "cont = 0\n",
        "puntosLado = 10000\n",
        "paso = 1 / (puntosLado - 1)\n",
        "\n",
        "i = 0\n",
        "while i <= 1:\n",
        "  j = 0\n",
        "  while j <= 1:\n",
        "    if distancia(i, j) <= 1:\n",
        "      cont += 1\n",
        "    j+= paso\n",
        "  i += paso\n",
        "\n",
        "print(\"Puntos:\", cont)\n",
        "print(\"Estimación de pi:\", (cont * 4 / (puntosLado**2)))"
      ],
      "metadata": {
        "colab": {
          "base_uri": "https://localhost:8080/"
        },
        "id": "m2kKm4YnkI6O",
        "outputId": "59f13c7a-a8fe-4d19-a0d0-774a89b266b4"
      },
      "execution_count": 3,
      "outputs": [
        {
          "output_type": "stream",
          "name": "stdout",
          "text": [
            "Puntos: 78534021\n",
            "Estimación de pi: 3.14136084\n"
          ]
        }
      ]
    },
    {
      "cell_type": "code",
      "source": [
        "import random"
      ],
      "metadata": {
        "id": "2ySYWL5k7elR"
      },
      "execution_count": 4,
      "outputs": []
    },
    {
      "cell_type": "code",
      "source": [
        "pnum=100000\n",
        "cnum=0\n",
        "for i in range(pnum):\n",
        "  x=random.random()\n",
        "  y=random.random()\n",
        "  if (distancia(x,y)<=1):\n",
        "\n",
        "    cnum+=1\n",
        "\n",
        "print(\"estimación de pi:\",(cnum*4/pnum**2))"
      ],
      "metadata": {
        "colab": {
          "base_uri": "https://localhost:8080/"
        },
        "id": "BOK8FJuu7hMn",
        "outputId": "fa457bf9-90ee-4ec1-eec6-6c1458e1f74d"
      },
      "execution_count": 5,
      "outputs": [
        {
          "output_type": "stream",
          "name": "stdout",
          "text": [
            "estimación de pi: 3.1424e-05\n"
          ]
        }
      ]
    }
  ]
}